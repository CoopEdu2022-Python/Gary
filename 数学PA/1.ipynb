{
 "cells": [
  {
   "cell_type": "code",
   "execution_count": null,
   "outputs": [],
   "source": [
    "import numpy as np\n",
    "import pandas as pd"
   ],
   "metadata": {
    "collapsed": false,
    "ExecuteTime": {
     "start_time": "2023-04-25T18:51:46.448796Z",
     "end_time": "2023-04-25T18:51:46.463969Z"
    }
   }
  },
  {
   "cell_type": "code",
   "execution_count": null,
   "outputs": [],
   "source": [
    "Trigonometric_table_path = r\"table1.xlsx\"\n",
    "Trigonometric_table = pd.read_excel(Trigonometric_table_path)\n",
    "Trigonometric_table.drop(Trigonometric_table.columns[[0,2,3]],axis=1,inplace=True)\n",
    "Trigonometric_table.drop(Trigonometric_table.index[[0,1]],inplace=True)\n",
    "data = {\"col1\": np.random.randint(10000000, 100000000, size=10000),\n",
    "        \"col2\": np.random.randint(10000000, 100000000, size=10000),\n",
    "        \"real\": \"\",\n",
    "        \"use_method\": \"\",\n",
    "        \"error_rate\": \"\"}\n",
    "test_case = pd.DataFrame(data)\n"
   ],
   "metadata": {
    "collapsed": false,
    "ExecuteTime": {
     "start_time": "2023-04-25T18:51:46.469020Z",
     "end_time": "2023-04-25T18:51:46.528542Z"
    }
   }
  },
  {
   "cell_type": "code",
   "execution_count": null,
   "outputs": [],
   "source": [
    "def find_near_cos_sin(sin_cos_0, goal):\n",
    "    list_ = []\n",
    "    list_1 = []\n",
    "    list_2 = []\n",
    "\n",
    "    for y in range(2,640):\n",
    "        list_.append(abs(Trigonometric_table.loc[y, sin_cos_0] - goal))\n",
    "        list_1.append(Trigonometric_table.loc[y, sin_cos_0])\n",
    "        list_2.append(Trigonometric_table.loc[y, 'x'])\n",
    "    return min(list_),list_2[list_.index(min(list_))],sin_cos_0"
   ],
   "metadata": {
    "collapsed": false,
    "ExecuteTime": {
     "start_time": "2023-04-25T18:51:46.528542Z",
     "end_time": "2023-04-25T18:51:46.548630Z"
    }
   }
  },
  {
   "cell_type": "code",
   "execution_count": null,
   "outputs": [],
   "source": [
    "def find_near_degree(sin_cos_0,goal):\n",
    "    list_ = []\n",
    "    list_1 = []\n",
    "    for w in range(2, 640):\n",
    "        list_.append(abs(Trigonometric_table.loc[w, 'x'] - goal))\n",
    "        list_1.append(Trigonometric_table.loc[w,sin_cos_0])\n",
    "    return list_1[list_.index(min(list_))]"
   ],
   "metadata": {
    "collapsed": false,
    "ExecuteTime": {
     "start_time": "2023-04-25T18:51:46.548630Z",
     "end_time": "2023-04-25T18:51:46.560607Z"
    }
   }
  },
  {
   "cell_type": "code",
   "execution_count": null,
   "outputs": [],
   "source": [
    "def panduan(data1, formula3):\n",
    "    if data1 > 270:\n",
    "        if formula3 == \"sin(x)\":\n",
    "            return -find_near_degree(\"cos(x)\",data1-270)\n",
    "        elif formula3 == \"cos\":\n",
    "            return find_near_degree(\"sin(x)\",data1-270)\n",
    "    elif data1 > 180:\n",
    "        return -find_near_degree(formula3,data1-180)\n",
    "    elif data1 > 90:\n",
    "        if formula3 == \"sin(x)\":\n",
    "            return find_near_degree(\"cos(x)\",data1-90)\n",
    "        elif formula3 == \"cos(x)\":\n",
    "            return -find_near_degree(\"sin(x)\",data1-90)\n",
    "    elif data1 >= 0:\n",
    "        return find_near_degree(formula3,data1)\n",
    "    elif data1 < 0:\n",
    "        return panduan(360 + data1, formula3)"
   ],
   "metadata": {
    "collapsed": false,
    "ExecuteTime": {
     "start_time": "2023-04-25T18:51:46.560607Z",
     "end_time": "2023-04-25T18:51:46.580590Z"
    }
   }
  },
  {
   "cell_type": "code",
   "execution_count": null,
   "outputs": [],
   "source": [
    "x=0.19856783\n",
    "\n",
    "print(find_near_cos_sin('sin(x)',x))\n",
    "print(find_near_cos_sin('cos(x)',x))"
   ],
   "metadata": {
    "collapsed": false,
    "ExecuteTime": {
     "start_time": "2023-04-25T18:51:46.580590Z",
     "end_time": "2023-04-25T18:51:46.623705Z"
    }
   }
  },
  {
   "cell_type": "code",
   "execution_count": null,
   "outputs": [],
   "source": [
    "r=34.4375-78.5\n",
    "print(panduan(r,'sin(x)'))"
   ],
   "metadata": {
    "collapsed": false,
    "ExecuteTime": {
     "start_time": "2023-04-25T18:51:46.637807Z",
     "end_time": "2023-04-25T18:51:46.670798Z"
    }
   }
  },
  {
   "cell_type": "code",
   "execution_count": null,
   "outputs": [],
   "source": [
    "def output(out,k):\n",
    "    test_case.loc[k, 'real'] = int(test_case.loc[k, \"col1\"]) * int(test_case.loc[k, \"col2\"])\n",
    "    buqi=int(\"1\"+\"0\"*(len(str(test_case.loc[k, 'real']))))\n",
    "    test_case.loc[k, 'use_method'] = out*buqi\n",
    "    test_case.loc[k, 'error_rate'] = abs(test_case.loc[k, 'real'] - test_case.loc[k, 'use_method']) / test_case.loc[k, 'real'] * 100\n",
    "    print(int(test_case.loc[k, \"col1\"]) * int(test_case.loc[k, \"col2\"]))\n",
    "    print(out*buqi)\n",
    "    print(abs(test_case.loc[k, 'real'] - test_case.loc[k, 'use_method']) / test_case.loc[k, 'real'] * 100)"
   ],
   "metadata": {
    "collapsed": false,
    "ExecuteTime": {
     "start_time": "2023-04-25T18:51:46.642852Z",
     "end_time": "2023-04-25T18:51:46.678855Z"
    }
   }
  },
  {
   "cell_type": "code",
   "execution_count": null,
   "outputs": [],
   "source": [
    "for k in range(100):\n",
    "    number0=test_case.loc[k,'col1']/100000000\n",
    "\n",
    "    degree0_sin=find_near_cos_sin(\"sin(x)\",number0)\n",
    "    degree0_cos=find_near_cos_sin('cos(x)',number0)\n",
    "    sin_cos_0=''\n",
    "    degree0=0\n",
    "    if degree0_sin[0]>degree0_cos[0]:\n",
    "        sin_cos_0=degree0_cos[2]\n",
    "        degree0=degree0_cos[1]\n",
    "    else:\n",
    "        sin_cos_0=degree0_sin[2]\n",
    "        degree0=degree0_sin[1]\n",
    "\n",
    "\n",
    "\n",
    "    ################################################\n",
    "    number1=test_case.loc[k,'col2']/100000000\n",
    "\n",
    "    degree1_sin=find_near_cos_sin(\"sin(x)\",number0)\n",
    "    degree1_cos=find_near_cos_sin('cos(x)',number0)\n",
    "    sin_cos_1=''\n",
    "    degree1=0\n",
    "    if degree1_sin[0]>degree1_cos[0]:\n",
    "        sin_cos_1=degree1_cos[2]\n",
    "        degree1=degree1_cos[1]\n",
    "    else:\n",
    "        sin_cos_1=degree1_sin[2]\n",
    "        degree1=degree1_sin[1]\n",
    "\n",
    "##########################################################\n",
    "    if sin_cos_0 == \"sin(x)\" and sin_cos_1 == \"cos(x)\":\n",
    "        final1 = panduan(degree0 + degree1, 'sin(x)')\n",
    "        final2 = panduan(degree0 - degree1, 'sin(x)')\n",
    "        out = (final1+final2)/2\n",
    "        output(out,k)\n",
    "\n",
    "    elif sin_cos_0 == \"sin(x)\" and sin_cos_1 == \"sin(x)\":\n",
    "        final1 = panduan(degree0 - degree1, 'cos(x)')\n",
    "        final2 = panduan(degree0 + degree1,'cos(x)')\n",
    "        out = (final1-final2)/2\n",
    "        output(out,k)\n",
    "    elif sin_cos_0 == \"cos(x)\" and sin_cos_1 == \"cos(x)\":\n",
    "\n",
    "        final1 = panduan(degree0 - degree1, 'cos(x)')\n",
    "\n",
    "        final2 = panduan(degree0 + degree1, 'cos(x)')\n",
    "        out = (final1+final2)/2\n",
    "        output(out,k)\n",
    "    elif sin_cos_0 == \"cos(x)\" and sin_cos_1 == \"sin(x)\":\n",
    "\n",
    "        final1 = panduan(degree1 + degree0,'sin(x)')\n",
    "        final2 = panduan(degree1 - degree0, 'sin(x)')\n",
    "        out = (final1+final2)/2\n",
    "        output(out,k)"
   ],
   "metadata": {
    "collapsed": false,
    "ExecuteTime": {
     "start_time": "2023-04-25T18:51:46.658845Z",
     "end_time": "2023-04-25T18:51:55.200539Z"
    }
   }
  },
  {
   "cell_type": "code",
   "execution_count": null,
   "outputs": [],
   "source": [
    "print(Trigonometric_table)"
   ],
   "metadata": {
    "collapsed": false,
    "ExecuteTime": {
     "start_time": "2023-04-25T18:51:55.200539Z",
     "end_time": "2023-04-25T18:51:55.261004Z"
    }
   }
  },
  {
   "cell_type": "code",
   "execution_count": null,
   "outputs": [],
   "source": [
    "print(test_case)"
   ],
   "metadata": {
    "collapsed": false,
    "ExecuteTime": {
     "start_time": "2023-04-25T18:51:55.218916Z",
     "end_time": "2023-04-25T18:51:55.269032Z"
    }
   }
  }
 ],
 "metadata": {
  "kernelspec": {
   "display_name": "Python 3",
   "language": "python",
   "name": "python3"
  },
  "language_info": {
   "codemirror_mode": {
    "name": "ipython",
    "version": 2
   },
   "file_extension": ".py",
   "mimetype": "text/x-python",
   "name": "python",
   "nbconvert_exporter": "python",
   "pygments_lexer": "ipython2",
   "version": "2.7.6"
  }
 },
 "nbformat": 4,
 "nbformat_minor": 0
}
